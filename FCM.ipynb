{
 "cells": [
  {
   "cell_type": "code",
   "execution_count": 18,
   "metadata": {},
   "outputs": [],
   "source": [
    "\n",
    "import numpy as np\n",
    "import matplotlib.pyplot as plt\n",
    "import random\n",
    "import operator\n",
    "import math\n",
    "from sklearn import datasets\n",
    "from fcmeans import FCM\n",
    "#note that this code works for numpy arrays, but can easily be fine tuned for dataframes\n",
    "def mu(k, dataset):\n",
    "    SEED =42\n",
    "    rng = np.random.default_rng(SEED)\n",
    "    mat = rng.random((k, len(dataset)))\n",
    "    matrix = np.zeros_like(mat)\n",
    "    for i in range(len(dataset)):\n",
    "        for j in range(k):\n",
    "            n = mat[:,i]\n",
    "            matrix[j][i] = mat[j][i]/np.sum(n)\n",
    "    return matrix\n",
    "def Cluster_Center(mu, m, k, dataset):\n",
    "    mat = np.zeros_like(mu) # calculating the cluster center\n",
    "    for i in range(k):\n",
    "        for j in range(len(dataset)):\n",
    "            mat[i][j] = (mu[i][j])**m\n",
    "    numerator = np.matmul(mat, dataset)\n",
    "    center  =  []\n",
    "    for k in range(mat.shape[0]):\n",
    "        center.append(np.divide(numerator[k], sum(mat[k])))\n",
    "    return center\n",
    "def updatemu(mat, m, k, dataset): # Updating the membership value\n",
    "    p = float(2/(m-1))\n",
    "    cluster_center = Cluster_Center(mat, m,k, dataset )\n",
    "    for i in range(len(dataset)):\n",
    "        x = list(dataset[i])\n",
    "        distances = [np.linalg.norm(np.array(list(map(operator.sub, x, cluster_center[j])))) for j in range(k)]\n",
    "        for j in range(k):\n",
    "            den = sum([math.pow(float(distances[j]/distances[c]), p) for c in range(k)])\n",
    "            mat[j][i] = float(1/den)       \n",
    "    return mat\n",
    "def getClusters(mat, dataset): # getting the clusters\n",
    "    cluster_labels = list()\n",
    "    for j in range(len(dataset)):\n",
    "        max_val, idx = max((val, idx) for (idx, val) in enumerate(mat[:,j]))\n",
    "        cluster_labels.append(idx)\n",
    "    return cluster_labels\n",
    "def fcm(k, m, dataset, max_iter): #Third iteration Random vectors from data\n",
    "    # Membership Matrix\n",
    "    membership_mat = mu(k, dataset)\n",
    "    curr = 0\n",
    "    acc=[]\n",
    "    while curr < max_iter:\n",
    "        cluster_centers = Cluster_Center(membership_mat, m, k, dataset)\n",
    "        membership_mat = updatemu(membership_mat, m, k, dataset)\n",
    "        cluster_labels = getClusters(membership_mat, dataset)\n",
    "        \n",
    "        acc.append(cluster_labels)\n",
    "        \n",
    "        if(curr == 0):\n",
    "            print(\"Cluster Centers:\")\n",
    "            print(np.array(cluster_centers))\n",
    "        curr += 1\n",
    "\n",
    "    #return cluster_labels, cluster_centers\n",
    "    return np.array(cluster_labels), np.array(cluster_centers), np.array(membership_mat)\n"
   ]
  }
 ],
 "metadata": {
  "kernelspec": {
   "display_name": "Python 3",
   "language": "python",
   "name": "python3"
  },
  "language_info": {
   "codemirror_mode": {
    "name": "ipython",
    "version": 3
   },
   "file_extension": ".py",
   "mimetype": "text/x-python",
   "name": "python",
   "nbconvert_exporter": "python",
   "pygments_lexer": "ipython3",
   "version": "3.10.8 (tags/v3.10.8:aaaf517, Oct 11 2022, 16:50:30) [MSC v.1933 64 bit (AMD64)]"
  },
  "orig_nbformat": 4,
  "vscode": {
   "interpreter": {
    "hash": "9ca60461c47dbc9162c502ad4a7ad22d0561ef000ae21fc927e282537ae71ed6"
   }
  }
 },
 "nbformat": 4,
 "nbformat_minor": 2
}
